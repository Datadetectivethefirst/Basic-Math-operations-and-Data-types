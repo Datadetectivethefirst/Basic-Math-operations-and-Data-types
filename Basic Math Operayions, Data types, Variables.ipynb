{
 "cells": [
  {
   "cell_type": "markdown",
   "id": "e69bfefb",
   "metadata": {},
   "source": [
    "# BASIC MATH OPERATIONS"
   ]
  },
  {
   "cell_type": "markdown",
   "id": "361c0696",
   "metadata": {},
   "source": [
    "Use the \"+\" sign to perform addition:"
   ]
  },
  {
   "cell_type": "code",
   "execution_count": 9,
   "id": "f4313f49",
   "metadata": {},
   "outputs": [
    {
     "data": {
      "text/plain": [
       "15"
      ]
     },
     "execution_count": 9,
     "metadata": {},
     "output_type": "execute_result"
    }
   ],
   "source": [
    "10+5"
   ]
  },
  {
   "cell_type": "code",
   "execution_count": 10,
   "id": "106df374",
   "metadata": {},
   "outputs": [
    {
     "data": {
      "text/plain": [
       "9000999"
      ]
     },
     "execution_count": 10,
     "metadata": {},
     "output_type": "execute_result"
    }
   ],
   "source": [
    "1000+8999999"
   ]
  },
  {
   "cell_type": "code",
   "execution_count": 11,
   "id": "f4e6980c",
   "metadata": {},
   "outputs": [
    {
     "name": "stdout",
     "output_type": "stream",
     "text": [
      "15\n"
     ]
    }
   ],
   "source": [
    "print(10+5)"
   ]
  },
  {
   "cell_type": "code",
   "execution_count": 12,
   "id": "808d0f9c",
   "metadata": {},
   "outputs": [
    {
     "name": "stdout",
     "output_type": "stream",
     "text": [
      "9000999\n"
     ]
    }
   ],
   "source": [
    "print (1000+8999999)"
   ]
  },
  {
   "cell_type": "markdown",
   "id": "638e34f2",
   "metadata": {},
   "source": [
    "Use the \"-\" to perform subtraction"
   ]
  },
  {
   "cell_type": "code",
   "execution_count": 13,
   "id": "09d70939",
   "metadata": {},
   "outputs": [
    {
     "data": {
      "text/plain": [
       "5"
      ]
     },
     "execution_count": 13,
     "metadata": {},
     "output_type": "execute_result"
    }
   ],
   "source": [
    "10-5"
   ]
  },
  {
   "cell_type": "code",
   "execution_count": 14,
   "id": "11dac74e",
   "metadata": {},
   "outputs": [
    {
     "name": "stdout",
     "output_type": "stream",
     "text": [
      "5\n"
     ]
    }
   ],
   "source": [
    "print(10-5)"
   ]
  },
  {
   "cell_type": "code",
   "execution_count": 15,
   "id": "9e78d265",
   "metadata": {},
   "outputs": [
    {
     "data": {
      "text/plain": [
       "510"
      ]
     },
     "execution_count": 15,
     "metadata": {},
     "output_type": "execute_result"
    }
   ],
   "source": [
    "1000-490"
   ]
  },
  {
   "cell_type": "markdown",
   "id": "5c09bc38",
   "metadata": {},
   "source": [
    "Use the \"*\" for multiplication:"
   ]
  },
  {
   "cell_type": "code",
   "execution_count": 16,
   "id": "d4327a57",
   "metadata": {},
   "outputs": [
    {
     "data": {
      "text/plain": [
       "50"
      ]
     },
     "execution_count": 16,
     "metadata": {},
     "output_type": "execute_result"
    }
   ],
   "source": [
    "10*5"
   ]
  },
  {
   "cell_type": "code",
   "execution_count": 18,
   "id": "22e08c00",
   "metadata": {},
   "outputs": [
    {
     "name": "stdout",
     "output_type": "stream",
     "text": [
      "50\n"
     ]
    }
   ],
   "source": [
    "print(10*5)"
   ]
  },
  {
   "cell_type": "code",
   "execution_count": 19,
   "id": "31391c8c",
   "metadata": {},
   "outputs": [
    {
     "data": {
      "text/plain": [
       "427500"
      ]
     },
     "execution_count": 19,
     "metadata": {},
     "output_type": "execute_result"
    }
   ],
   "source": [
    "950*450"
   ]
  },
  {
   "cell_type": "markdown",
   "id": "f8f8fe2d",
   "metadata": {},
   "source": [
    "Use \"/\" for division"
   ]
  },
  {
   "cell_type": "code",
   "execution_count": 20,
   "id": "01c70fe8",
   "metadata": {},
   "outputs": [
    {
     "data": {
      "text/plain": [
       "3.3333333333333335"
      ]
     },
     "execution_count": 20,
     "metadata": {},
     "output_type": "execute_result"
    }
   ],
   "source": [
    "10/3"
   ]
  },
  {
   "cell_type": "code",
   "execution_count": 21,
   "id": "4b3d0078",
   "metadata": {},
   "outputs": [
    {
     "data": {
      "text/plain": [
       "3.2"
      ]
     },
     "execution_count": 21,
     "metadata": {},
     "output_type": "execute_result"
    }
   ],
   "source": [
    "800/250"
   ]
  },
  {
   "cell_type": "markdown",
   "id": "58ede061",
   "metadata": {},
   "source": [
    "Use // for floor division (Round decimal remainders down)"
   ]
  },
  {
   "cell_type": "code",
   "execution_count": 22,
   "id": "16a9e335",
   "metadata": {},
   "outputs": [
    {
     "data": {
      "text/plain": [
       "8"
      ]
     },
     "execution_count": 22,
     "metadata": {},
     "output_type": "execute_result"
    }
   ],
   "source": [
    "100//12"
   ]
  },
  {
   "cell_type": "code",
   "execution_count": 24,
   "id": "c9534e4c",
   "metadata": {},
   "outputs": [
    {
     "data": {
      "text/plain": [
       "1"
      ]
     },
     "execution_count": 24,
     "metadata": {},
     "output_type": "execute_result"
    }
   ],
   "source": [
    "10//7"
   ]
  },
  {
   "cell_type": "code",
   "execution_count": null,
   "id": "0cf53b6b",
   "metadata": {},
   "outputs": [],
   "source": [
    "Use ** for exponentiation:"
   ]
  },
  {
   "cell_type": "code",
   "execution_count": 25,
   "id": "80b5888a",
   "metadata": {},
   "outputs": [
    {
     "data": {
      "text/plain": [
       "1000"
      ]
     },
     "execution_count": 25,
     "metadata": {},
     "output_type": "execute_result"
    }
   ],
   "source": [
    "10**3"
   ]
  },
  {
   "cell_type": "markdown",
   "id": "f0b8f9d4",
   "metadata": {},
   "source": [
    "Python follows the normal order of Basic arithmetic operation (BODMAS)"
   ]
  },
  {
   "cell_type": "code",
   "execution_count": 26,
   "id": "6e81d5c8",
   "metadata": {},
   "outputs": [
    {
     "data": {
      "text/plain": [
       "77"
      ]
     },
     "execution_count": 26,
     "metadata": {},
     "output_type": "execute_result"
    }
   ],
   "source": [
    "2+3*5**2"
   ]
  },
  {
   "cell_type": "code",
   "execution_count": 28,
   "id": "6d9b74f8",
   "metadata": {},
   "outputs": [
    {
     "data": {
      "text/plain": [
       "625"
      ]
     },
     "execution_count": 28,
     "metadata": {},
     "output_type": "execute_result"
    }
   ],
   "source": [
    "((2+3)*5)**2"
   ]
  },
  {
   "cell_type": "code",
   "execution_count": null,
   "id": "8c811fce",
   "metadata": {},
   "outputs": [],
   "source": [
    "Use this % for modulus Operator"
   ]
  },
  {
   "cell_type": "code",
   "execution_count": 29,
   "id": "3b9334c5",
   "metadata": {},
   "outputs": [
    {
     "data": {
      "text/plain": [
       "25"
      ]
     },
     "execution_count": 29,
     "metadata": {},
     "output_type": "execute_result"
    }
   ],
   "source": [
    "100%75"
   ]
  },
  {
   "cell_type": "code",
   "execution_count": 30,
   "id": "ad9de51a",
   "metadata": {},
   "outputs": [
    {
     "data": {
      "text/plain": [
       "2"
      ]
     },
     "execution_count": 30,
     "metadata": {},
     "output_type": "execute_result"
    }
   ],
   "source": [
    "10%4"
   ]
  },
  {
   "cell_type": "code",
   "execution_count": 31,
   "id": "fad8f80f",
   "metadata": {},
   "outputs": [
    {
     "data": {
      "text/plain": [
       "8"
      ]
     },
     "execution_count": 31,
     "metadata": {},
     "output_type": "execute_result"
    }
   ],
   "source": [
    "77%23"
   ]
  },
  {
   "cell_type": "markdown",
   "id": "db51a150",
   "metadata": {},
   "source": [
    "Rounding up numbers to whole numbers"
   ]
  },
  {
   "cell_type": "code",
   "execution_count": 33,
   "id": "23e95b05",
   "metadata": {},
   "outputs": [
    {
     "data": {
      "text/plain": [
       "234"
      ]
     },
     "execution_count": 33,
     "metadata": {},
     "output_type": "execute_result"
    }
   ],
   "source": [
    "round(233.734)"
   ]
  },
  {
   "cell_type": "code",
   "execution_count": 35,
   "id": "25affad2",
   "metadata": {},
   "outputs": [
    {
     "data": {
      "text/plain": [
       "876.5"
      ]
     },
     "execution_count": 35,
     "metadata": {},
     "output_type": "execute_result"
    }
   ],
   "source": [
    "round(876.474, 1)"
   ]
  },
  {
   "cell_type": "markdown",
   "id": "57549027",
   "metadata": {},
   "source": [
    "# DATA TYPES"
   ]
  },
  {
   "cell_type": "markdown",
   "id": "f0da6374",
   "metadata": {},
   "source": [
    "1. Integer, represented as int"
   ]
  },
  {
   "cell_type": "code",
   "execution_count": 40,
   "id": "cc36d8cf",
   "metadata": {},
   "outputs": [
    {
     "data": {
      "text/plain": [
       "int"
      ]
     },
     "execution_count": 40,
     "metadata": {},
     "output_type": "execute_result"
    }
   ],
   "source": [
    "x=100\n",
    "type(x)"
   ]
  },
  {
   "cell_type": "markdown",
   "id": "c8a093a8",
   "metadata": {},
   "source": [
    "2.Float"
   ]
  },
  {
   "cell_type": "code",
   "execution_count": 42,
   "id": "d1fc45a9",
   "metadata": {},
   "outputs": [
    {
     "data": {
      "text/plain": [
       "float"
      ]
     },
     "execution_count": 42,
     "metadata": {},
     "output_type": "execute_result"
    }
   ],
   "source": [
    "y=15.7\n",
    "type(y)"
   ]
  },
  {
   "cell_type": "code",
   "execution_count": 44,
   "id": "567e5be8",
   "metadata": {},
   "outputs": [
    {
     "data": {
      "text/plain": [
       "float"
      ]
     },
     "execution_count": 44,
     "metadata": {},
     "output_type": "execute_result"
    }
   ],
   "source": [
    "n=1/4\n",
    "type(n)"
   ]
  },
  {
   "cell_type": "markdown",
   "id": "cbea82b5",
   "metadata": {},
   "source": [
    "3.Booleans"
   ]
  },
  {
   "cell_type": "code",
   "execution_count": 45,
   "id": "1baee539",
   "metadata": {},
   "outputs": [
    {
     "data": {
      "text/plain": [
       "True"
      ]
     },
     "execution_count": 45,
     "metadata": {},
     "output_type": "execute_result"
    }
   ],
   "source": [
    "20>10"
   ]
  },
  {
   "cell_type": "code",
   "execution_count": 46,
   "id": "97946275",
   "metadata": {},
   "outputs": [
    {
     "data": {
      "text/plain": [
       "True"
      ]
     },
     "execution_count": 46,
     "metadata": {},
     "output_type": "execute_result"
    }
   ],
   "source": [
    "10==10"
   ]
  },
  {
   "cell_type": "code",
   "execution_count": 47,
   "id": "45f2efcb",
   "metadata": {},
   "outputs": [
    {
     "data": {
      "text/plain": [
       "False"
      ]
     },
     "execution_count": 47,
     "metadata": {},
     "output_type": "execute_result"
    }
   ],
   "source": [
    "10==3"
   ]
  },
  {
   "cell_type": "markdown",
   "id": "168eca5d",
   "metadata": {},
   "source": [
    "4. Strings (str)"
   ]
  },
  {
   "cell_type": "code",
   "execution_count": 52,
   "id": "96304073",
   "metadata": {},
   "outputs": [
    {
     "ename": "SyntaxError",
     "evalue": "invalid syntax (3159642451.py, line 1)",
     "output_type": "error",
     "traceback": [
      "\u001b[1;36m  Cell \u001b[1;32mIn[52], line 1\u001b[1;36m\u001b[0m\n\u001b[1;33m    x= Nigeria will be great again\u001b[0m\n\u001b[1;37m               ^\u001b[0m\n\u001b[1;31mSyntaxError\u001b[0m\u001b[1;31m:\u001b[0m invalid syntax\n"
     ]
    }
   ],
   "source": [
    "x= \"Nigeria will be great again\"\n",
    "print (x)"
   ]
  },
  {
   "cell_type": "code",
   "execution_count": 54,
   "id": "cd76f419",
   "metadata": {},
   "outputs": [
    {
     "name": "stdout",
     "output_type": "stream",
     "text": [
      "2\n"
     ]
    }
   ],
   "source": [
    "n=2\n",
    "print (n)"
   ]
  },
  {
   "cell_type": "code",
   "execution_count": 49,
   "id": "bdac5d5c",
   "metadata": {},
   "outputs": [
    {
     "data": {
      "text/plain": [
       "str"
      ]
     },
     "execution_count": 49,
     "metadata": {},
     "output_type": "execute_result"
    }
   ],
   "source": [
    "type(x)"
   ]
  }
 ],
 "metadata": {
  "kernelspec": {
   "display_name": "Python 3 (ipykernel)",
   "language": "python",
   "name": "python3"
  },
  "language_info": {
   "codemirror_mode": {
    "name": "ipython",
    "version": 3
   },
   "file_extension": ".py",
   "mimetype": "text/x-python",
   "name": "python",
   "nbconvert_exporter": "python",
   "pygments_lexer": "ipython3",
   "version": "3.10.9"
  }
 },
 "nbformat": 4,
 "nbformat_minor": 5
}
