{
 "cells": [
  {
   "cell_type": "markdown",
   "id": "cce59e40",
   "metadata": {},
   "source": [
    "# VARIABLES"
   ]
  },
  {
   "cell_type": "code",
   "execution_count": 58,
   "id": "0227ec39",
   "metadata": {},
   "outputs": [
    {
     "name": "stdout",
     "output_type": "stream",
     "text": [
      "700000000000668356979278000000008\n"
     ]
    }
   ],
   "source": [
    "X=700000000000668356979278000000000\n",
    "Y=8\n",
    "print (X+Y)"
   ]
  },
  {
   "cell_type": "code",
   "execution_count": 61,
   "id": "b23e2867",
   "metadata": {},
   "outputs": [
    {
     "name": "stdout",
     "output_type": "stream",
     "text": [
      "10\n",
      "python is fun\n",
      "12.0\n"
     ]
    }
   ],
   "source": [
    "a= 10\n",
    "b=\"python is fun\"\n",
    "c= 144**0.5\n",
    "print(a)\n",
    "print(b)\n",
    "print(c)"
   ]
  },
  {
   "cell_type": "code",
   "execution_count": 63,
   "id": "4e4dc6a1",
   "metadata": {},
   "outputs": [
    {
     "name": "stdout",
     "output_type": "stream",
     "text": [
      "Boy\n"
     ]
    }
   ],
   "source": [
    "x= \"Boy\"\n",
    "print(x)"
   ]
  },
  {
   "cell_type": "code",
   "execution_count": 64,
   "id": "17a51978",
   "metadata": {},
   "outputs": [
    {
     "name": "stdout",
     "output_type": "stream",
     "text": [
      "Boy\n"
     ]
    }
   ],
   "source": [
    "print(x)"
   ]
  },
  {
   "cell_type": "code",
   "execution_count": 65,
   "id": "fa669818",
   "metadata": {},
   "outputs": [
    {
     "name": "stdout",
     "output_type": "stream",
     "text": [
      "4\n",
      "4\n"
     ]
    }
   ],
   "source": [
    "n=m=4\n",
    "print(n)\n",
    "print(m)"
   ]
  },
  {
   "cell_type": "code",
   "execution_count": 67,
   "id": "9238cf94",
   "metadata": {},
   "outputs": [
    {
     "name": "stdout",
     "output_type": "stream",
     "text": [
      "2\n",
      "3\n",
      "60\n"
     ]
    }
   ],
   "source": [
    "x, y, z =(2, 3, 60)\n",
    "\n",
    "print(x)\n",
    "print(y)\n",
    "print(z)"
   ]
  },
  {
   "cell_type": "code",
   "execution_count": 72,
   "id": "8322bbf6",
   "metadata": {},
   "outputs": [
    {
     "name": "stdout",
     "output_type": "stream",
     "text": [
      "books\n"
     ]
    }
   ],
   "source": [
    "X = \"books\"\n",
    "print(X)"
   ]
  },
  {
   "cell_type": "code",
   "execution_count": 68,
   "id": "1021891b",
   "metadata": {},
   "outputs": [
    {
     "name": "stdout",
     "output_type": "stream",
     "text": [
      "Nigeria\n"
     ]
    }
   ],
   "source": [
    "x=\"Nigeria\"\n",
    "print(x)"
   ]
  },
  {
   "cell_type": "code",
   "execution_count": 70,
   "id": "e6254503",
   "metadata": {},
   "outputs": [
    {
     "name": "stdout",
     "output_type": "stream",
     "text": [
      "pen\n"
     ]
    }
   ],
   "source": [
    "x=\"pen\"\n",
    "print(x)"
   ]
  },
  {
   "cell_type": "code",
   "execution_count": 71,
   "id": "a7b556e5",
   "metadata": {},
   "outputs": [
    {
     "name": "stdout",
     "output_type": "stream",
     "text": [
      "pen\n"
     ]
    }
   ],
   "source": [
    "print(x)"
   ]
  },
  {
   "cell_type": "code",
   "execution_count": 73,
   "id": "35819631",
   "metadata": {},
   "outputs": [
    {
     "name": "stdout",
     "output_type": "stream",
     "text": [
      "books\n"
     ]
    }
   ],
   "source": [
    "print(X)"
   ]
  },
  {
   "cell_type": "code",
   "execution_count": 77,
   "id": "09b3631a",
   "metadata": {},
   "outputs": [
    {
     "name": "stdout",
     "output_type": "stream",
     "text": [
      "Money\n",
      "Dollars\n",
      "Naira\n",
      "Pounds\n"
     ]
    }
   ],
   "source": [
    "BOY = \"Money\"\n",
    "boy = \"Dollars\"\n",
    "bOY = \"Naira\"\n",
    "BoY = \"Pounds\"\n",
    "print(BOY)\n",
    "print(boy)\n",
    "print (bOY)\n",
    "print(BoY)"
   ]
  },
  {
   "cell_type": "code",
   "execution_count": 79,
   "id": "7e205a3c",
   "metadata": {},
   "outputs": [
    {
     "name": "stdout",
     "output_type": "stream",
     "text": [
      "books\n"
     ]
    }
   ],
   "source": [
    "g = \"books\"\n",
    "print(g)"
   ]
  },
  {
   "cell_type": "code",
   "execution_count": 83,
   "id": "a0d6b7ae",
   "metadata": {},
   "outputs": [
    {
     "name": "stdout",
     "output_type": "stream",
     "text": [
      "800\n"
     ]
    }
   ],
   "source": [
    "Helloworld = 800\n",
    "print(Helloworld)"
   ]
  },
  {
   "cell_type": "markdown",
   "id": "09475e21",
   "metadata": {},
   "source": [
    "# List"
   ]
  },
  {
   "cell_type": "markdown",
   "id": "dc8e6dd7",
   "metadata": {},
   "source": [
    "A list is a mutable, ordered collection of objects."
   ]
  },
  {
   "cell_type": "code",
   "execution_count": 86,
   "id": "4b595aba",
   "metadata": {},
   "outputs": [
    {
     "name": "stdout",
     "output_type": "stream",
     "text": [
      "['Lesson', 5, 'Is Fun', True]\n"
     ]
    }
   ],
   "source": [
    "my_list = [1,2,3,4]\n",
    "A2= [\"Lesson\", 5, \"Is Fun\", True]\n",
    "print(A2)"
   ]
  },
  {
   "cell_type": "code",
   "execution_count": 91,
   "id": "35a62c02",
   "metadata": {},
   "outputs": [
    {
     "name": "stdout",
     "output_type": "stream",
     "text": [
      "['P', 'R', 'O', 'F', 'E', 'S', 'S', 'I', 'O', 'N', 'A', 'L']\n"
     ]
    }
   ],
   "source": [
    "QWE = list(\"PROFESSIONAL\")\n",
    "print(QWE)"
   ]
  },
  {
   "cell_type": "code",
   "execution_count": 92,
   "id": "8fbe8fc7",
   "metadata": {
    "scrolled": true
   },
   "outputs": [
    {
     "name": "stdout",
     "output_type": "stream",
     "text": [
      "[]\n"
     ]
    }
   ],
   "source": [
    "QWERTY = []\n",
    "print(QWERTY)"
   ]
  },
  {
   "cell_type": "code",
   "execution_count": 95,
   "id": "3bfb9fcf",
   "metadata": {},
   "outputs": [
    {
     "name": "stdout",
     "output_type": "stream",
     "text": [
      "['Lesson', 5, 'Is Fun', True, 'Nothing much', 'Nothing much']\n"
     ]
    }
   ],
   "source": [
    "A2.append(\"Nothing much\")\n",
    "print(A2)"
   ]
  },
  {
   "cell_type": "code",
   "execution_count": 99,
   "id": "eb55fdf2",
   "metadata": {},
   "outputs": [
    {
     "name": "stdout",
     "output_type": "stream",
     "text": [
      "['Elephant', 'Elephant', 'boy', 'girl']\n"
     ]
    }
   ],
   "source": [
    "QWERTY.append(\"girl\")\n",
    "print(QWERTY)"
   ]
  },
  {
   "cell_type": "code",
   "execution_count": 101,
   "id": "81dddc06",
   "metadata": {},
   "outputs": [
    {
     "name": "stdout",
     "output_type": "stream",
     "text": [
      "['Elephant', 'Elephant', 'boy']\n"
     ]
    }
   ],
   "source": [
    "QWERTY.remove(\"girl\")\n",
    "print(QWERTY)"
   ]
  }
 ],
 "metadata": {
  "kernelspec": {
   "display_name": "Python 3 (ipykernel)",
   "language": "python",
   "name": "python3"
  },
  "language_info": {
   "codemirror_mode": {
    "name": "ipython",
    "version": 3
   },
   "file_extension": ".py",
   "mimetype": "text/x-python",
   "name": "python",
   "nbconvert_exporter": "python",
   "pygments_lexer": "ipython3",
   "version": "3.10.9"
  }
 },
 "nbformat": 4,
 "nbformat_minor": 5
}
